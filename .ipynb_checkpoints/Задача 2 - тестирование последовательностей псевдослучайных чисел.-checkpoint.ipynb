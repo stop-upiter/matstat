{
 "cells": [
  {
   "cell_type": "markdown",
   "metadata": {},
   "source": [
    "### Домашнее задание по пммс.\n",
    "Ризоева Амина, БПИ199, вариант 10, задание 2."
   ]
  },
  {
   "cell_type": "markdown",
   "metadata": {},
   "source": [
    "Тут я просто библиотечки подтаскиваю."
   ]
  },
  {
   "cell_type": "code",
   "execution_count": 90,
   "metadata": {},
   "outputs": [],
   "source": [
    "import numpy as np\n",
    "from scipy.stats import t\n",
    "import pylab\n",
    "import scipy.stats as stats\n",
    "import random\n",
    "import matplotlib.pyplot as plt"
   ]
  },
  {
   "cell_type": "markdown",
   "metadata": {},
   "source": [
    "__Задание__ : реализовать датчик псевдослучайных чисел и проверить генерируемую последовательность на равномерность и независимость."
   ]
  },
  {
   "cell_type": "markdown",
   "metadata": {},
   "source": [
    "1. Рассчитайте $100$ псевдослучайных чисел степенным остаточным методом $3$."
   ]
  },
  {
   "cell_type": "markdown",
   "metadata": {},
   "source": [
    "Для начала напишем сам метод.\n",
    "\n",
    "У нас есть начальное число $z_1$, а последующие числа получаем из соотношения\n",
    "$z_i=((z_{i−1}+58)^{1.6} \\text{ div } 10) \\text{ mod } 10000$, где $div$ — целая часть от деления, $mod$ — остаток от\n",
    "деления:"
   ]
  },
  {
   "cell_type": "code",
   "execution_count": 110,
   "metadata": {},
   "outputs": [],
   "source": [
    "def степенный_остаточный_метод_3(начальное_число, сколько_надо_чисел):\n",
    "    числа = [начальное_число]\n",
    "    for i in range(сколько_надо_чисел - 1):\n",
    "        числа+=[int(((числа[i]+58)**1.6 // 10) % 10000)]\n",
    "    return числа"
   ]
  },
  {
   "cell_type": "markdown",
   "metadata": {},
   "source": [
    "По условию начальное число $z_1 = 4508$. Просчитаем $100$ чисел:"
   ]
  },
  {
   "cell_type": "code",
   "execution_count": 111,
   "metadata": {},
   "outputs": [],
   "source": [
    "псевдослучайные_числа = степенный_остаточный_метод_3(начальное_число = 4508, сколько_надо_чисел = 100)"
   ]
  },
  {
   "cell_type": "markdown",
   "metadata": {},
   "source": [
    "Полученная последовательность укладывается в пределы от $0$ до $1$ так: $x_i = \\frac{z_i}{10000}$. Напишем для этого метод:"
   ]
  },
  {
   "cell_type": "code",
   "execution_count": 112,
   "metadata": {},
   "outputs": [],
   "source": [
    "def уложить_в_пределы_от_0_до_1(последовательность):\n",
    "    уложенная_последовательность = [последовательность[i]/10_000 for i in range(len(последовательность))]\n",
    "    return уложенная_последовательность"
   ]
  },
  {
   "cell_type": "code",
   "execution_count": 113,
   "metadata": {},
   "outputs": [],
   "source": [
    "последовательность_норм = уложить_в_пределы_от_0_до_1(псевдослучайные_числа)"
   ]
  },
  {
   "cell_type": "markdown",
   "metadata": {},
   "source": [
    "2. Первые 10 чисел этой последовательности:"
   ]
  },
  {
   "cell_type": "code",
   "execution_count": 114,
   "metadata": {},
   "outputs": [
    {
     "name": "stdout",
     "output_type": "stream",
     "text": [
      "4508 0.4508\n",
      "1656 0.1656\n",
      "4942 0.4942\n",
      "2861 0.2861\n",
      "5024 0.5024\n",
      "5046 0.5046\n",
      "5636 0.5636\n",
      "2015 0.2015\n",
      "256 0.0256\n",
      "988 0.0988\n"
     ]
    }
   ],
   "source": [
    "for i in range (10):\n",
    "    print(псевдослучайные_числа[i], последовательность_норм[i])"
   ]
  },
  {
   "cell_type": "markdown",
   "metadata": {},
   "source": [
    "3. Постройте гистограмму с 10 столбцами для полученной последовательности."
   ]
  },
  {
   "cell_type": "markdown",
   "metadata": {},
   "source": [
    "Напишу метод для рисования гистограмм потому что 1 метод легче 2 строк и ещё потому что мне понравилось писать методы на питоне"
   ]
  },
  {
   "cell_type": "code",
   "execution_count": 115,
   "metadata": {},
   "outputs": [],
   "source": [
    "def гистограмма(последовательность):\n",
    "    plt.hist(последовательность, 10)\n",
    "    plt.show()"
   ]
  },
  {
   "cell_type": "code",
   "execution_count": 116,
   "metadata": {},
   "outputs": [
    {
     "data": {
      "image/png": "[encoded data removed]",
      "text/plain": [
       "<Figure size 432x288 with 1 Axes>"
      ]
     },
     "metadata": {
      "needs_background": "light"
     },
     "output_type": "display_data"
    }
   ],
   "source": [
    "гистограмма(псевдослучайные_числа)"
   ]
  },
  {
   "cell_type": "code",
   "execution_count": 117,
   "metadata": {
    "scrolled": true
   },
   "outputs": [
    {
     "data": {
      "image/png": "[encoded data removed]",
      "text/plain": [
       "<Figure size 432x288 with 1 Axes>"
      ]
     },
     "metadata": {
      "needs_background": "light"
     },
     "output_type": "display_data"
    }
   ],
   "source": [
    "гистограмма(последовательность_норм)"
   ]
  },
  {
   "cell_type": "markdown",
   "metadata": {},
   "source": [
    "(Гистограммы одинаковы, меняется лишь размах диапазона чисел.)"
   ]
  },
  {
   "cell_type": "markdown",
   "metadata": {},
   "source": [
    "4. Проверьте гипотезу о том, что последовательность имеет распределение $R(0; 1)$ критерием\n",
    "хи-квадрат, разбив интервал $[0; 1)$ на десять равных интервалов."
   ]
  },
  {
   "cell_type": "markdown",
   "metadata": {},
   "source": [
    "$H_0$: последовательность $\\sim R(0;1)$\n",
    "\n",
    "$H_A$: последовательность $\\nsim R(0;1)$"
   ]
  },
  {
   "cell_type": "code",
   "execution_count": 97,
   "metadata": {},
   "outputs": [],
   "source": [
    "интервалы = []\n",
    "for i in range (10):\n",
    "    интервал = []\n",
    "    for j in range (100):\n",
    "        if ((i/10<=последовательность_норм[j]) and (последовательность_норм[j] < (i+1)/10)):\n",
    "            интервал+=[последовательность_норм[j]]\n",
    "            \n",
    "    интервалы += [интервал]\n",
    "#интервалы"
   ]
  },
  {
   "cell_type": "code",
   "execution_count": null,
   "metadata": {},
   "outputs": [],
   "source": []
  },
  {
   "cell_type": "markdown",
   "metadata": {},
   "source": [
    "5. Повторите шаги 3 и 4 для последовательности длиной в 10000 чисел."
   ]
  },
  {
   "cell_type": "code",
   "execution_count": 121,
   "metadata": {},
   "outputs": [],
   "source": [
    "последовательность_10_000 =  степенный_остаточный_метод_3(начальное_число = 4508, сколько_надо_чисел = 10_000)"
   ]
  },
  {
   "cell_type": "markdown",
   "metadata": {},
   "source": [
    "5.1. Постройте гистограмму с 10 столбцами для полученной последовательности."
   ]
  },
  {
   "cell_type": "code",
   "execution_count": null,
   "metadata": {},
   "outputs": [],
   "source": []
  },
  {
   "cell_type": "code",
   "execution_count": null,
   "metadata": {},
   "outputs": [],
   "source": []
  },
  {
   "cell_type": "markdown",
   "metadata": {},
   "source": [
    "5.2. Проверьте гипотезу о том, что последовательность имеет распределение $R(0; 1)$ критерием\n",
    "хи-квадрат, разбив интервал $[0; 1)$ на десять равных интервалов."
   ]
  },
  {
   "cell_type": "code",
   "execution_count": null,
   "metadata": {},
   "outputs": [],
   "source": []
  },
  {
   "cell_type": "code",
   "execution_count": null,
   "metadata": {},
   "outputs": [],
   "source": []
  },
  {
   "cell_type": "markdown",
   "metadata": {},
   "source": [
    "6. Проверьте тестом перестановок первые $9999$ чисел вашей последовательности, разбив их на тройки.\n",
    "Используйте уровень значимости $5\\%$."
   ]
  },
  {
   "cell_type": "markdown",
   "metadata": {},
   "source": [
    "Для начала напишем функцию подсчёта перестановок:"
   ]
  },
  {
   "cell_type": "code",
   "execution_count": 120,
   "metadata": {},
   "outputs": [],
   "source": [
    "#[0]<->123\n",
    "#[1]<->132\n",
    "#[2]<->213\n",
    "#[3]<->231\n",
    "#[4]<->312\n",
    "#[5]<->321\n",
    "def посчитать_перестановки_троек(числа):\n",
    "    сколько_троек = len(числа) // 3\n",
    "    счёт_перестановок = [0 for i in range(6)]\n",
    "    for i in range(сколько_троек):\n",
    "        a = числа[3*i]\n",
    "        b = числа[3*i+1]\n",
    "        c = числа[3*i+2]\n",
    "        if (a<=b):\n",
    "            if (a<=c):\n",
    "                if (b<=c):\n",
    "                    #abc = 123\n",
    "                    счёт_перестановок[0]+=1\n",
    "                else:\n",
    "                    #acb = 132\n",
    "                    счёт_перестановок[1]+=1\n",
    "            else:\n",
    "                #cab = 231\n",
    "                счёт_перестановок[3]+=1\n",
    "        else:\n",
    "            if (b<=c):\n",
    "                if (a<=c):\n",
    "                    #bac = 213\n",
    "                    счёт_перестановок[2]+=1\n",
    "                else:\n",
    "                    #bca = 312\n",
    "                    счёт_перестановок[4]+=1\n",
    "            else:\n",
    "                #cba = 321\n",
    "                счёт_перестановок[5]+=1\n",
    "    return счёт_перестановок"
   ]
  },
  {
   "cell_type": "markdown",
   "metadata": {},
   "source": [
    "$H_0$:\n",
    "\n",
    "$H_A$:"
   ]
  },
  {
   "cell_type": "markdown",
   "metadata": {},
   "source": [
    "Критерий:"
   ]
  },
  {
   "cell_type": "code",
   "execution_count": null,
   "metadata": {},
   "outputs": [],
   "source": []
  },
  {
   "cell_type": "code",
   "execution_count": 124,
   "metadata": {},
   "outputs": [
    {
     "data": {
      "text/plain": [
       "[587, 497, 296, 686, 489, 778]"
      ]
     },
     "execution_count": 124,
     "metadata": {},
     "output_type": "execute_result"
    }
   ],
   "source": [
    "частоты_перестановок = посчитать_перестановки_троек(последовательность_10_000)\n",
    "частоты_перестановок"
   ]
  },
  {
   "cell_type": "code",
   "execution_count": null,
   "metadata": {},
   "outputs": [],
   "source": []
  }
 ],
 "metadata": {
  "kernelspec": {
   "display_name": "Python 3",
   "language": "python",
   "name": "python3"
  },
  "language_info": {
   "codemirror_mode": {
    "name": "ipython",
    "version": 3
   },
   "file_extension": ".py",
   "mimetype": "text/x-python",
   "name": "python",
   "nbconvert_exporter": "python",
   "pygments_lexer": "ipython3",
   "version": "3.8.3"
  }
 },
 "nbformat": 4,
 "nbformat_minor": 4
}
