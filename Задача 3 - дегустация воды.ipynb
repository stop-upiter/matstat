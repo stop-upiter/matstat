{
 "cells": [
  {
   "cell_type": "markdown",
   "metadata": {},
   "source": [
    "### Домашнее задание по пммс.\n",
    "Ризоева Амина, БПИ199, вариант 10, задание 3."
   ]
  },
  {
   "cell_type": "markdown",
   "metadata": {},
   "source": [
    "Наши данные:"
   ]
  },
  {
   "cell_type": "code",
   "execution_count": 2,
   "metadata": {},
   "outputs": [],
   "source": [
    "пол           = [1,0,1,1,1,1,0,0,1,0,1,0,1,1,0,1,0,0,0,0,0,0,0,1,1,1,0,0,1,0,0]\n",
    "оценка_воды_а = [7,7,5,5,7,7,4,3,6,2,3,7,5,5,5,5,2,5,4,5,1,7,5,6,5,5,5,4,5,2,4]\n",
    "оценка_воды_б = [3,3,4,4,3,4,4,4,4,5,4,4,5,5,6,4,3,5,5,3,5,4,5,5,4,5,6,4,5,3,6]"
   ]
  },
  {
   "cell_type": "markdown",
   "metadata": {},
   "source": [
    "#### Вопрос 1.\n",
    "Есть ли основание считать, что потенциальный потребитель предпочитает воду A воде B?"
   ]
  },
  {
   "cell_type": "markdown",
   "metadata": {},
   "source": [
    "Основная гипотеза: у потенциального потребителя нет предпочтений между водой А и Б.\n",
    "\n",
    "Альтернативная гипотеза: потенциальный потребитель предпочитает воду А воде Б.\n",
    "\n",
    "Так ещё:\n",
    "\n",
    "$H_0$: $Med(a_i - b_i) = 0$\n",
    "\n",
    "$H_A$: $Med(a_i - b_i) > 0$"
   ]
  },
  {
   "cell_type": "markdown",
   "metadata": {},
   "source": [
    "Используем критерий знаков. \n",
    "\n",
    "Для начала высчитаем разницы оценок воды у каждого опрошенного:"
   ]
  },
  {
   "cell_type": "code",
   "execution_count": 4,
   "metadata": {},
   "outputs": [
    {
     "name": "stdout",
     "output_type": "stream",
     "text": [
      "[4, 4, 1, 1, 4, 3, 0, -1, 2, -3, -1, 3, 0, 0, -1, 1, -1, 0, -1, 2, -4, 3, 0, 1, 1, 0, -1, 0, 0, -1, -2]\n"
     ]
    }
   ],
   "source": [
    "разницы = [оценка_воды_а[i] - оценка_воды_б[i] for i in range(len(оценка_воды_а))]\n",
    "print(разницы)"
   ]
  },
  {
   "cell_type": "markdown",
   "metadata": {},
   "source": [
    "Для критерия знаков мы не рассмотриваем случаи с нулевой разницей:"
   ]
  },
  {
   "cell_type": "code",
   "execution_count": 7,
   "metadata": {},
   "outputs": [
    {
     "name": "stdout",
     "output_type": "stream",
     "text": [
      "[4, 4, 1, 1, 4, 3, -1, 2, -3, -1, 3, -1, 1, -1, -1, 2, -4, 3, 1, 1, -1, -1, -2]\n",
      "23\n"
     ]
    }
   ],
   "source": [
    "нужные_разницы = []\n",
    "for i in range(len(разницы)):\n",
    "    if (разницы[i]!=0):\n",
    "        нужные_разницы+= [разницы[i]]\n",
    "print(нужные_разницы)\n",
    "print(len(нужные_разницы))"
   ]
  },
  {
   "cell_type": "markdown",
   "metadata": {},
   "source": [
    "Таким образом $n = 23$"
   ]
  },
  {
   "cell_type": "markdown",
   "metadata": {},
   "source": [
    "Так как у нас односторонняя альтернативная гипотеза, то значение статистики $T = n^-$. Посчитаем его:"
   ]
  },
  {
   "cell_type": "code",
   "execution_count": 9,
   "metadata": {},
   "outputs": [
    {
     "data": {
      "text/plain": [
       "10"
      ]
     },
     "execution_count": 9,
     "metadata": {},
     "output_type": "execute_result"
    }
   ],
   "source": [
    "n_minus = 0\n",
    "for i in range(len(нужные_разницы)):\n",
    "    if (нужные_разницы[i]<0):\n",
    "        n_minus+=1\n",
    "n_minus"
   ]
  },
  {
   "cell_type": "markdown",
   "metadata": {},
   "source": [
    "Отлично, $T = n^- = 10$.\n",
    "\n",
    "Теперь при помощи таблицы узнаём критическое значение $T^{крит.}_{\\alpha, n} = T^{крит.}_{0.1, 23} = 7$\n",
    "\n",
    "Таким образом так как $10 > 7 \\to T > T^{крит.} \\to $ мы ?(не) отвергаем? основную гипотезу."
   ]
  },
  {
   "cell_type": "markdown",
   "metadata": {},
   "source": [
    "__Вывод:__ "
   ]
  },
  {
   "cell_type": "markdown",
   "metadata": {},
   "source": [
    "#### Вопрос 2.\n",
    "Связано ли отношение к воде A с полом потребителя? От этого зависит стратегия\n",
    "продвижения товара."
   ]
  },
  {
   "cell_type": "code",
   "execution_count": null,
   "metadata": {},
   "outputs": [],
   "source": []
  }
 ],
 "metadata": {
  "kernelspec": {
   "display_name": "Python 3",
   "language": "python",
   "name": "python3"
  },
  "language_info": {
   "codemirror_mode": {
    "name": "ipython",
    "version": 3
   },
   "file_extension": ".py",
   "mimetype": "text/x-python",
   "name": "python",
   "nbconvert_exporter": "python",
   "pygments_lexer": "ipython3",
   "version": "3.8.3"
  }
 },
 "nbformat": 4,
 "nbformat_minor": 4
}
